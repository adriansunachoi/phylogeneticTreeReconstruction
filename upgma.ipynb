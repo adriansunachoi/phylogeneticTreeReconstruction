{
 "cells": [
  {
   "cell_type": "markdown",
   "metadata": {},
   "source": [
    "##### Build a tree with tree69 with coalescent intervals distributed as Exp(klambda) and random lineages chosen at a coalescence"
   ]
  },
  {
   "cell_type": "code",
   "execution_count": 4,
   "metadata": {},
   "outputs": [],
   "source": [
    "%matplotlib inline\n",
    "import numpy as np\n",
    "import random, math\n",
    "from Node import Node\n",
    "from Tree import Tree\n",
    "import tree69"
   ]
  },
  {
   "cell_type": "code",
   "execution_count": 5,
   "metadata": {},
   "outputs": [],
   "source": [
    "class TreeSimulation:\n",
    "    def __init__(self):\n",
    "        self.t = 0\n",
    "        self.tree = None\n",
    "        \n",
    "    def tree_simulate(self, n, lamda):\n",
    "        '''\n",
    "        A method that simulates a tree based on the Yule model\n",
    "        '''\n",
    "        self.t = 0\n",
    "        k = n\n",
    "        self.tree = Tree()\n",
    "        root = Node(label=\"root\")\n",
    "        \n",
    "        # Initialize a node list, values do not matter at this stage\n",
    "        node_list = [i for i in range(n)]\n",
    "        for i in range(n):\n",
    "            node_list[i] = Node(label=str(i+1))\n",
    "            node_list[i].set_height(0)\n",
    "            root.add_child(node_list[i])\n",
    "        self.tree.set_root(root)\n",
    "        \n",
    "        # Branching process begins\n",
    "        while k>1:\n",
    "            t_k = -math.log(random.random())/(k*lamda)\n",
    "            self.t+=t_k\n",
    "            m = Node(label='m')\n",
    "            m.set_height(self.t)\n",
    "            \n",
    "            # Randomly select two nodes from the list, w/o replacement\n",
    "            children = random.sample(node_list,2)\n",
    "            m.add_child(children[0])\n",
    "            m.add_child(children[1])\n",
    "            \n",
    "            # Remove node i, j from the tree\n",
    "            node_list.remove(children[0])\n",
    "            node_list.remove(children[1])\n",
    "            \n",
    "            # Add node m to the tree\n",
    "            node_list.append(m)\n",
    "            root.add_child(m)\n",
    "            root.remove_child(children[0])\n",
    "            root.remove_child(children[1])\n",
    "            k-=1\n",
    "        self.tree.get_root().set_height(self.t)\n",
    "        return self.tree\n",
    "    \n",
    "    def simulate_thousand_tree(self):\n",
    "        result = 0\n",
    "        for i in range(1000):\n",
    "            result+=self.tree_simulate(10,0.5).get_root().get_height()\n",
    "        return result/1000\n",
    "    \n",
    "    def plot(self):\n",
    "        tree69.plot_tree(self.tree)\n",
    "        \n",
    "    def get_leaves(self):\n",
    "        tree69.Tree.get_leaves(self.tree)"
   ]
  },
  {
   "cell_type": "code",
   "execution_count": 6,
   "metadata": {},
   "outputs": [],
   "source": [
    "tree = TreeSimulation()"
   ]
  },
  {
   "cell_type": "code",
   "execution_count": 7,
   "metadata": {},
   "outputs": [
    {
     "data": {
      "image/png": "[encoded data removed]",
      "text/plain": [
       "<Figure size 432x288 with 1 Axes>"
      ]
     },
     "metadata": {
      "needs_background": "light"
     },
     "output_type": "display_data"
    }
   ],
   "source": [
    "#The theoretical mean of 3.68 is agreed\n",
    "tree = TreeSimulation()\n",
    "tree.tree_simulate(10,0.5)\n",
    "tree.plot()"
   ]
  },
  {
   "cell_type": "markdown",
   "metadata": {},
   "source": [
    "#### Mutate down to all leaves recursively"
   ]
  },
  {
   "cell_type": "code",
   "execution_count": 8,
   "metadata": {},
   "outputs": [],
   "source": [
    "# mutates a sequence according to the Jukes-Cantor model \n",
    "# X is an numpy.array with entries in {0,1,2,3}\n",
    "# t is branch length \n",
    "# mu is mutation rate\n",
    "#\n",
    "def mutate(X,t,mu):\n",
    "    '''\n",
    "    A function to return the mutated sequence\n",
    "    '''\n",
    "    dna = ['A','G','C','T']\n",
    "    import numpy.random as rand\n",
    "    L= len(X)\n",
    "    mutatedSeq = X.copy()\n",
    "    numMutation = rand.poisson(L*mu*t)\n",
    "    for i in range(numMutation):\n",
    "        site = rand.randint(0,L)\n",
    "        mutatedSeq[site] = dna[rand.randint(0,4)]\n",
    "    return mutatedSeq"
   ]
  },
  {
   "cell_type": "code",
   "execution_count": 9,
   "metadata": {},
   "outputs": [],
   "source": [
    "def traverse(node,mu):\n",
    "    '''\n",
    "    A helper function that recursively vist every node and assign the mutated seqeunce to its node\n",
    "    '''\n",
    "\n",
    "    dna = ['A','G','C','T']\n",
    "    \n",
    "    # If the node is valid\n",
    "    if not None:\n",
    "        # In this case, the tree is binary\n",
    "        for child in node.get_children():\n",
    "            \n",
    "            # The branch length = height of current node - height of its child's node\n",
    "            branch = node.get_height() - child.get_height()\n",
    "            mutated_seq = mutate(node.get_sequence(),branch, mu)\n",
    "            child.set_sequence(mutated_seq)\n",
    "            traverse(child,mu)"
   ]
  },
  {
   "cell_type": "code",
   "execution_count": 10,
   "metadata": {},
   "outputs": [],
   "source": [
    "def simulate_sequences(tree, L, mu):\n",
    "    '''\n",
    "    The main function that simulated sequences with given length and mutation rate\n",
    "    '''\n",
    "    dna = ['A','G','C','T']\n",
    "    \n",
    "    # Initialize a sequence uniformly generated to the root\n",
    "    root_seq = [random.randint(0,3) for i in range(L)]\n",
    "    tree.get_root().set_sequence([dna[item] for item in root_seq])\n",
    "    traverse(tree.get_root(), mu)\n",
    "    return tree"
   ]
  },
  {
   "cell_type": "code",
   "execution_count": 11,
   "metadata": {},
   "outputs": [],
   "source": [
    "def get_sequences(tree):\n",
    "    '''\n",
    "    A function that returns a list contains all sequences of the leaves\n",
    "    \n",
    "    '''\n",
    "    return [leaf.get_sequence() for leaf in tree.get_leaves()]"
   ]
  },
  {
   "cell_type": "code",
   "execution_count": 12,
   "metadata": {},
   "outputs": [
    {
     "data": {
      "image/png": "[encoded data removed]",
      "text/plain": [
       "<Figure size 432x288 with 1 Axes>"
      ]
     },
     "metadata": {
      "needs_background": "light"
     },
     "output_type": "display_data"
    }
   ],
   "source": [
    "tree = TreeSimulation()\n",
    "aTree = tree.tree_simulate(10,0.5)\n",
    "simulate_sequences(aTree, 20, 0.5)\n",
    "tree.plot()"
   ]
  },
  {
   "cell_type": "code",
   "execution_count": 13,
   "metadata": {},
   "outputs": [],
   "source": [
    "###ADJUST seq needs to be stored at nodes"
   ]
  },
  {
   "cell_type": "markdown",
   "metadata": {},
   "source": [
    "##### Calculate distance matrix for seqs from simulated tree "
   ]
  },
  {
   "cell_type": "code",
   "execution_count": 15,
   "metadata": {},
   "outputs": [],
   "source": [
    "def jc_distance(sequences):\n",
    "    '''\n",
    "    A function that calculates the Jukes-Cantor distance matrix from a set of sequences\n",
    "    '''\n",
    "    \n",
    "    # Initialize a symmetric numpy array with dim = length of sequences\n",
    "    d = np.zeros((len(sequences), len(sequences)))\n",
    "    \n",
    "    # Fill the value in the matrix\n",
    "    for i in range(len(sequences)):\n",
    "        for j in range(len(sequences)):\n",
    "            d[i,j] = dxy(sequences[i], sequences[j])\n",
    "    return d"
   ]
  },
  {
   "cell_type": "code",
   "execution_count": 16,
   "metadata": {},
   "outputs": [],
   "source": [
    "def dxy(x,y):\n",
    "    '''\n",
    "    A function that calculates Jukes-Cantor distance by definition\n",
    "    '''\n",
    "    return -(3*math.log(1-4*fxy(x,y)/3))/4"
   ]
  },
  {
   "cell_type": "code",
   "execution_count": 17,
   "metadata": {},
   "outputs": [],
   "source": [
    "def fxy(x,y):\n",
    "    '''\n",
    "    A function that calculates fraction of differing sites between x and y.\n",
    "    '''\n",
    "    \n",
    "    # diff is the number of differing sites between x and y and L is the length of x.\n",
    "    diff = 0\n",
    "    for i in range(len(x)):\n",
    "        if x[i]!=y[i]:\n",
    "            diff+=1\n",
    "    return min(diff/len(x), 0.75-1/len(x))"
   ]
  },
  {
   "cell_type": "code",
   "execution_count": 18,
   "metadata": {},
   "outputs": [
    {
     "data": {
      "text/plain": [
       "array([[-0.        ,  0.47145649,  0.68721805,  0.99131688,  0.99131688,\n",
       "         2.03103765,  2.03103765,  2.03103765,  2.03103765,  2.03103765],\n",
       "       [ 0.47145649, -0.        ,  0.82395922,  1.51117727,  1.51117727,\n",
       "         2.03103765,  2.03103765,  2.03103765,  2.03103765,  2.03103765],\n",
       "       [ 0.68721805,  0.82395922, -0.        ,  1.51117727,  1.51117727,\n",
       "         2.03103765,  1.20707843,  1.51117727,  1.20707843,  2.03103765],\n",
       "       [ 0.99131688,  1.51117727,  1.51117727, -0.        , -0.        ,\n",
       "         2.03103765,  2.03103765,  2.03103765,  2.03103765,  2.03103765],\n",
       "       [ 0.99131688,  1.51117727,  1.51117727, -0.        , -0.        ,\n",
       "         2.03103765,  2.03103765,  2.03103765,  2.03103765,  2.03103765],\n",
       "       [ 2.03103765,  2.03103765,  2.03103765,  2.03103765,  2.03103765,\n",
       "        -0.        ,  0.10732563,  0.05174465,  0.10732563,  2.03103765],\n",
       "       [ 2.03103765,  2.03103765,  1.20707843,  2.03103765,  2.03103765,\n",
       "         0.10732563, -0.        ,  0.05174465,  0.2326162 ,  2.03103765],\n",
       "       [ 2.03103765,  2.03103765,  1.51117727,  2.03103765,  2.03103765,\n",
       "         0.05174465,  0.05174465, -0.        ,  0.16735766,  2.03103765],\n",
       "       [ 2.03103765,  2.03103765,  1.20707843,  2.03103765,  2.03103765,\n",
       "         0.10732563,  0.2326162 ,  0.16735766, -0.        ,  2.03103765],\n",
       "       [ 2.03103765,  2.03103765,  2.03103765,  2.03103765,  2.03103765,\n",
       "         2.03103765,  2.03103765,  2.03103765,  2.03103765, -0.        ]])"
      ]
     },
     "execution_count": 18,
     "metadata": {},
     "output_type": "execute_result"
    }
   ],
   "source": [
    "tree = TreeSimulation()\n",
    "aTree = tree.tree_simulate(10,0.5)\n",
    "simulate_sequences(aTree,20,0.5)\n",
    "jc_distance(get_sequences(aTree))"
   ]
  },
  {
   "cell_type": "markdown",
   "metadata": {},
   "source": [
    "##### Reconstruct trees with upgma"
   ]
  },
  {
   "cell_type": "code",
   "execution_count": 19,
   "metadata": {},
   "outputs": [
    {
     "name": "stdout",
     "output_type": "stream",
     "text": [
      "[[-0.          0.82395922  0.82395922  0.82395922  1.51117727  1.51117727\n",
      "   1.51117727  1.20707843  1.20707843  1.51117727]\n",
      " [ 0.82395922 -0.         -0.         -0.          0.30409883  0.30409883\n",
      "   0.30409883  0.47145649  0.30409883  0.38311922]\n",
      " [ 0.82395922 -0.         -0.         -0.          0.30409883  0.30409883\n",
      "   0.30409883  0.47145649  0.30409883  0.38311922]\n",
      " [ 0.82395922 -0.         -0.         -0.          0.30409883  0.30409883\n",
      "   0.30409883  0.47145649  0.30409883  0.38311922]\n",
      " [ 1.51117727  0.30409883  0.30409883  0.30409883 -0.         -0.\n",
      "  -0.          0.30409883  0.30409883  0.38311922]\n",
      " [ 1.51117727  0.30409883  0.30409883  0.30409883 -0.         -0.\n",
      "  -0.          0.30409883  0.30409883  0.38311922]\n",
      " [ 1.51117727  0.30409883  0.30409883  0.30409883 -0.         -0.\n",
      "  -0.          0.30409883  0.30409883  0.38311922]\n",
      " [ 1.20707843  0.47145649  0.47145649  0.47145649  0.30409883  0.30409883\n",
      "   0.30409883 -0.          0.47145649  0.57160504]\n",
      " [ 1.20707843  0.30409883  0.30409883  0.30409883  0.30409883  0.30409883\n",
      "   0.30409883  0.47145649 -0.          0.05174465]\n",
      " [ 1.51117727  0.38311922  0.38311922  0.38311922  0.38311922  0.38311922\n",
      "   0.38311922  0.57160504  0.05174465 -0.        ]]\n"
     ]
    },
    {
     "data": {
      "image/png": "[encoded data removed]",
      "text/plain": [
       "<Figure size 432x288 with 1 Axes>"
      ]
     },
     "metadata": {
      "needs_background": "light"
     },
     "output_type": "display_data"
    }
   ],
   "source": [
    "tree = TreeSimulation()\n",
    "aTree = tree.tree_simulate(10,0.5)\n",
    "simulate_sequences(aTree,20,0.1)\n",
    "s = get_sequences(aTree)\n",
    "tree.plot()\n",
    "d = jc_distance(s)\n",
    "print(d)\n",
    "upgma_tree = tree69.compute_upgma_tree(d)"
   ]
  },
  {
   "cell_type": "code",
   "execution_count": null,
   "metadata": {},
   "outputs": [],
   "source": []
  }
 ],
 "metadata": {
  "kernelspec": {
   "display_name": "Python 3",
   "language": "python",
   "name": "python3"
  },
  "language_info": {
   "codemirror_mode": {
    "name": "ipython",
    "version": 3
   },
   "file_extension": ".py",
   "mimetype": "text/x-python",
   "name": "python",
   "nbconvert_exporter": "python",
   "pygments_lexer": "ipython3",
   "version": "3.7.6"
  }
 },
 "nbformat": 4,
 "nbformat_minor": 4
}
